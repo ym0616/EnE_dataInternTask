{
 "cells": [
  {
   "cell_type": "markdown",
   "metadata": {},
   "source": [
    "## Load library"
   ]
  },
  {
   "cell_type": "code",
   "execution_count": 48,
   "metadata": {},
   "outputs": [],
   "source": [
    "import numpy as np\n",
    "import pandas as pd\n",
    "import matplotlib.pyplot as plt\n",
    "import seaborn as sns"
   ]
  },
  {
   "cell_type": "markdown",
   "metadata": {},
   "source": [
    "The ‘Comfort Votes.csv’ and ‘Outside Air Temp test.csv’ are actual datasets provided by the Energy Conservation office. It is recommended that you use a Jupyter Notebook so that it is easy to view your code and the results of each task.\n",
    " \n",
    " (Language: Python, with the pandas library and any other library for data analysis)\n",
    "Some of this data may need some cleaning in order to accomplish the task such as dropping NaNs or removing data that is incorrect such as values like ‘Sun” under comfort votes. Buildings may also need to be renamed so that they all keep the same casing.\n",
    " \n",
    "1.    Load in the ‘Comfort Votes.csv’ data into a DataFrame and ensure that the ‘Comfort’ column only contains ‘Hot’, ‘Warm’, ‘Perfect’, ‘Chilly’ and ‘Cold ‘votes (it is recommended that you make each comfort type follow a case of your choosing such as HOT or Hot so that indexing and searching for votes is accurate and consistent). Identify the top three buildings that had the most votes and plot (in any form that makes sense).\n",
    " \n",
    "2.     Break down the votes of these top three buildings by type of Vote. \n",
    "(ie. Tercero 200 total, \n",
    "23 Hot Votes, \n",
    "67 Warm Votes, \n",
    "41 Perfect Votes,\n",
    "15  Chilly Votes,\n",
    "54 Cold Votes )\n",
    " \n",
    "3.     Determine what month has the most votes and plot in a way that is intuitive and displays the top 5 months.\n",
    " \n",
    "4.     Merge ‘Chilly ‘Votes with ‘Cold’ Votes, ‘Warm’ Votes with ‘Hot’ votes and replot all votes by Hot, Perfect and Cold for all time\n",
    " \n",
    "5.     Create 2 subplots in which the merged votes from task 4 are broken down by faculty and student.\n",
    " \n",
    "6.     Append the 'Outside Air Temp test.csv' to the thermoostat DataFrame ensuring that the nearest temperature to the vote is attached to each vote. Below is an example of a merge between the comfort votes and the outside air temperature:"
   ]
  },
  {
   "cell_type": "markdown",
   "metadata": {},
   "source": [
    "## Step 1\n",
    "\n",
    "Load in the ‘Comfort Votes.csv’ data into a DataFrame and ensure that the ‘Comfort’ column only contains ‘Hot’, ‘Warm’, ‘Perfect’, ‘Chilly’ and ‘Cold ‘votes (it is recommended that you make each comfort type follow a case of your choosing such as HOT or Hot so that indexing and searching for votes is accurate and consistent). Identify the top three buildings that had the most votes and plot (in any form that makes sense)."
   ]
  },
  {
   "cell_type": "markdown",
   "metadata": {},
   "source": [
    "## Hard coding\n",
    "BAD!!!"
   ]
  },
  {
   "cell_type": "code",
   "execution_count": 46,
   "metadata": {},
   "outputs": [
    {
     "ename": "AttributeError",
     "evalue": "'list' object has no attribute 'lower'",
     "output_type": "error",
     "traceback": [
      "\u001b[0;31m---------------------------------------------------------------------------\u001b[0m",
      "\u001b[0;31mAttributeError\u001b[0m                            Traceback (most recent call last)",
      "\u001b[0;32m<ipython-input-46-77b6ee4087be>\u001b[0m in \u001b[0;36m<module>\u001b[0;34m\u001b[0m\n\u001b[0;32m----> 1\u001b[0;31m \u001b[0;34m[\u001b[0m\u001b[0;34m\"A\"\u001b[0m\u001b[0;34m,\u001b[0m \u001b[0;34m\"B\"\u001b[0m\u001b[0;34m]\u001b[0m\u001b[0;34m.\u001b[0m\u001b[0mlower\u001b[0m\u001b[0;34m(\u001b[0m\u001b[0;34m)\u001b[0m\u001b[0;34m\u001b[0m\u001b[0;34m\u001b[0m\u001b[0m\n\u001b[0m",
      "\u001b[0;31mAttributeError\u001b[0m: 'list' object has no attribute 'lower'"
     ]
    }
   ],
   "source": [
    "[\"A\", \"B\"].lower()"
   ]
  },
  {
   "cell_type": "code",
   "execution_count": 107,
   "metadata": {},
   "outputs": [
    {
     "data": {
      "text/plain": [
       "cold       7289\n",
       "hot        5142\n",
       "chilly     4305\n",
       "perfect    3102\n",
       "warm       2308\n",
       "Name: comfort, dtype: int64"
      ]
     },
     "execution_count": 107,
     "metadata": {},
     "output_type": "execute_result"
    }
   ],
   "source": [
    "votedata = pd.read_csv(\"Comfort Votes.csv\", header = 0)\n",
    "votedata = votedata.loc[votedata[\"comfort\"].isnull() == False]\n",
    "votedata[\"comfort\"] = votedata[\"comfort\"].str.lower()\n",
    "votedata = votedata.loc[votedata[\"comfort\"].isin([x.lower() for x in [\"Hot\", \"Warm\", \"Perfect\", \"Chilly\",\"Cold\"]])]\n",
    "#votedata.head()\n",
    "votedata[\"comfort\"].value_counts()"
   ]
  },
  {
   "cell_type": "markdown",
   "metadata": {},
   "source": [
    "No `NaN` in `comfort` column"
   ]
  },
  {
   "cell_type": "code",
   "execution_count": 7,
   "metadata": {},
   "outputs": [
    {
     "data": {
      "text/plain": [
       "(26187, 10)"
      ]
     },
     "execution_count": 7,
     "metadata": {},
     "output_type": "execute_result"
    }
   ],
   "source": [
    "votedata.shape"
   ]
  },
  {
   "cell_type": "code",
   "execution_count": 108,
   "metadata": {
    "scrolled": false
   },
   "outputs": [
    {
     "data": {
      "text/plain": [
       "building\n",
       "1050 Extension Center Drive                6\n",
       "1050 Extension Center Drive Trailer        1\n",
       "1333 Reseac Park                           1\n",
       "1333 research park                         1\n",
       "1441 Research Park Drive                   2\n",
       "1441 research park drive                   1\n",
       "150 Mrak Hall                              0\n",
       "1605 Tilia                                 1\n",
       "1605 Tilia Stree                           1\n",
       "1605 tilia                                 1\n",
       "1660 drew circle                           1\n",
       "1715 tilia                                 1\n",
       "1850 Resarch Park Drive                    1\n",
       "1850 Research Park                         1\n",
       "1850 Research Park Dr.                     1\n",
       "1850 Research Park Drive                   4\n",
       "1850 research park                         2\n",
       "208                                        1\n",
       "2205 Haring Hall                           0\n",
       "260 Cousteau                               1\n",
       "260 cousteau                               2\n",
       "3820 Chiles Rd                             1\n",
       "4900 broadway                              1\n",
       "A&FS                                       1\n",
       "ARC (Activities and Recreation Center)     3\n",
       "ARC Pavilion                              35\n",
       "ASB Building - UCDMC                       1\n",
       "ASB Downtown                               1\n",
       "Acad                                       1\n",
       "Academic                                   1\n",
       "                                          ..\n",
       "gbsf                                       2\n",
       "geidt                                      1\n",
       "geidt hall                                 0\n",
       "geit                                       0\n",
       "ghaussi                                    1\n",
       "gilmore hall                               1\n",
       "glimore                                    1\n",
       "gsm                                        1\n",
       "math sciences                              0\n",
       "mrak                                       0\n",
       "office of research                         1\n",
       "pes                                        0\n",
       "ph&ev                                      1\n",
       "pine hall                                  2\n",
       "research park                              1\n",
       "scc                                        1\n",
       "science laboratory building                1\n",
       "solano                                     1\n",
       "surge 3                                    1\n",
       "surge III                                  1\n",
       "tb9                                        1\n",
       "tercero                                    1\n",
       "tercero hall                               1\n",
       "tercero service center                     1\n",
       "the grove                                  1\n",
       "uc service building                        1\n",
       "vetmed 3b                                  1\n",
       "vm3b                                       6\n",
       "voor                                       1\n",
       "wellman                                    2\n",
       "Name: room, Length: 411, dtype: int64"
      ]
     },
     "execution_count": 108,
     "metadata": {},
     "output_type": "execute_result"
    }
   ],
   "source": [
    "votedata.groupby(\"building\")[\"room\"].nunique()"
   ]
  },
  {
   "cell_type": "code",
   "execution_count": null,
   "metadata": {},
   "outputs": [],
   "source": []
  },
  {
   "cell_type": "markdown",
   "metadata": {},
   "source": [
    "## 2. Break down the votes of these top three buildings by type of Vote."
   ]
  },
  {
   "cell_type": "code",
   "execution_count": 51,
   "metadata": {},
   "outputs": [
    {
     "data": {
      "text/html": [
       "<div>\n",
       "<style scoped>\n",
       "    .dataframe tbody tr th:only-of-type {\n",
       "        vertical-align: middle;\n",
       "    }\n",
       "\n",
       "    .dataframe tbody tr th {\n",
       "        vertical-align: top;\n",
       "    }\n",
       "\n",
       "    .dataframe thead th {\n",
       "        text-align: right;\n",
       "    }\n",
       "</style>\n",
       "<table border=\"1\" class=\"dataframe\">\n",
       "  <thead>\n",
       "    <tr style=\"text-align: right;\">\n",
       "      <th></th>\n",
       "      <th>Unnamed: 0</th>\n",
       "      <th>isFaculty</th>\n",
       "      <th>isStaff</th>\n",
       "      <th>isStudent</th>\n",
       "      <th>building</th>\n",
       "      <th>buildingKey</th>\n",
       "      <th>room</th>\n",
       "      <th>comfort</th>\n",
       "      <th>quarter</th>\n",
       "      <th>timestamp</th>\n",
       "      <th>activity</th>\n",
       "      <th>clothing</th>\n",
       "    </tr>\n",
       "  </thead>\n",
       "  <tbody>\n",
       "    <tr>\n",
       "      <th>0</th>\n",
       "      <td>0</td>\n",
       "      <td>FALSE</td>\n",
       "      <td>False</td>\n",
       "      <td>True</td>\n",
       "      <td>Giedt Hall</td>\n",
       "      <td>DV-01-001586</td>\n",
       "      <td>1003</td>\n",
       "      <td>chilly</td>\n",
       "      <td>fall2014</td>\n",
       "      <td>Sat Nov 01 2014 11:50:00 GMT-0700 (PDT)</td>\n",
       "      <td>NaN</td>\n",
       "      <td>NaN</td>\n",
       "    </tr>\n",
       "    <tr>\n",
       "      <th>1</th>\n",
       "      <td>1</td>\n",
       "      <td>FALSE</td>\n",
       "      <td>False</td>\n",
       "      <td>True</td>\n",
       "      <td>Tercero Community</td>\n",
       "      <td>DV-01-000536</td>\n",
       "      <td>410a</td>\n",
       "      <td>warm</td>\n",
       "      <td>fall2014</td>\n",
       "      <td>Sat Nov 01 2014 12:15:00 GMT-0700 (PDT)</td>\n",
       "      <td>NaN</td>\n",
       "      <td>NaN</td>\n",
       "    </tr>\n",
       "    <tr>\n",
       "      <th>2</th>\n",
       "      <td>2</td>\n",
       "      <td>FALSE</td>\n",
       "      <td>False</td>\n",
       "      <td>False</td>\n",
       "      <td>Regan Main</td>\n",
       "      <td>DV-01-000348</td>\n",
       "      <td>Paloma building,210A</td>\n",
       "      <td>cold</td>\n",
       "      <td>fall2014</td>\n",
       "      <td>Sat Nov 01 2014 14:04:00 GMT-0700 (PDT)</td>\n",
       "      <td>NaN</td>\n",
       "      <td>NaN</td>\n",
       "    </tr>\n",
       "    <tr>\n",
       "      <th>3</th>\n",
       "      <td>3</td>\n",
       "      <td>FALSE</td>\n",
       "      <td>False</td>\n",
       "      <td>True</td>\n",
       "      <td>Segundo Miller</td>\n",
       "      <td>DV-01-001564</td>\n",
       "      <td>420</td>\n",
       "      <td>cold</td>\n",
       "      <td>fall2014</td>\n",
       "      <td>Sat Nov 01 2014 14:44:00 GMT-0700 (PDT)</td>\n",
       "      <td>NaN</td>\n",
       "      <td>NaN</td>\n",
       "    </tr>\n",
       "    <tr>\n",
       "      <th>4</th>\n",
       "      <td>4</td>\n",
       "      <td>FALSE</td>\n",
       "      <td>False</td>\n",
       "      <td>True</td>\n",
       "      <td>Memorial Union</td>\n",
       "      <td>DV-01-000152</td>\n",
       "      <td>Market Place</td>\n",
       "      <td>perfect</td>\n",
       "      <td>fall2014</td>\n",
       "      <td>Sat Nov 01 2014 16:38:00 GMT-0700 (PDT)</td>\n",
       "      <td>NaN</td>\n",
       "      <td>NaN</td>\n",
       "    </tr>\n",
       "  </tbody>\n",
       "</table>\n",
       "</div>"
      ],
      "text/plain": [
       "   Unnamed: 0 isFaculty  isStaff  isStudent           building   buildingKey  \\\n",
       "0           0     FALSE    False       True         Giedt Hall  DV-01-001586   \n",
       "1           1     FALSE    False       True  Tercero Community  DV-01-000536   \n",
       "2           2     FALSE    False      False         Regan Main  DV-01-000348   \n",
       "3           3     FALSE    False       True     Segundo Miller  DV-01-001564   \n",
       "4           4     FALSE    False       True     Memorial Union  DV-01-000152   \n",
       "\n",
       "                   room  comfort   quarter  \\\n",
       "0                  1003   chilly  fall2014   \n",
       "1                  410a     warm  fall2014   \n",
       "2  Paloma building,210A     cold  fall2014   \n",
       "3                   420     cold  fall2014   \n",
       "4          Market Place  perfect  fall2014   \n",
       "\n",
       "                                 timestamp activity clothing  \n",
       "0  Sat Nov 01 2014 11:50:00 GMT-0700 (PDT)      NaN      NaN  \n",
       "1  Sat Nov 01 2014 12:15:00 GMT-0700 (PDT)      NaN      NaN  \n",
       "2  Sat Nov 01 2014 14:04:00 GMT-0700 (PDT)      NaN      NaN  \n",
       "3  Sat Nov 01 2014 14:44:00 GMT-0700 (PDT)      NaN      NaN  \n",
       "4  Sat Nov 01 2014 16:38:00 GMT-0700 (PDT)      NaN      NaN  "
      ]
     },
     "execution_count": 51,
     "metadata": {},
     "output_type": "execute_result"
    }
   ],
   "source": [
    "votedata.head()"
   ]
  },
  {
   "cell_type": "code",
   "execution_count": 109,
   "metadata": {},
   "outputs": [
    {
     "data": {
      "text/plain": [
       "<matplotlib.axes._subplots.AxesSubplot at 0x12bca7908>"
      ]
     },
     "execution_count": 109,
     "metadata": {},
     "output_type": "execute_result"
    },
    {
     "data": {
      "image/png": "[encoded data removed]",
      "text/plain": [
       "<Figure size 432x288 with 1 Axes>"
      ]
     },
     "metadata": {
      "needs_background": "light"
     },
     "output_type": "display_data"
    }
   ],
   "source": [
    "bdcounts = votedata[\"building\"].value_counts()\n",
    "sns.barplot(x=bdcounts.index[0:3], y=bdcounts[0:3])"
   ]
  },
  {
   "cell_type": "code",
   "execution_count": 66,
   "metadata": {},
   "outputs": [
    {
     "data": {
      "text/plain": [
       "411"
      ]
     },
     "execution_count": 66,
     "metadata": {},
     "output_type": "execute_result"
    }
   ],
   "source": [
    "len(bdcounts)"
   ]
  },
  {
   "cell_type": "markdown",
   "metadata": {},
   "source": [
    "## Step 2\n",
    "\n",
    "Break down the votes of these top three buildings by type of Vote. (ie. Tercero 200 total, 23 Hot Votes, 67 Warm Votes, 41 Perfect Votes, 15 Chilly Votes, 54 Cold Votes )"
   ]
  },
  {
   "cell_type": "code",
   "execution_count": 110,
   "metadata": {},
   "outputs": [
    {
     "data": {
      "text/plain": [
       "building         comfort\n",
       "Shields Library  cold       388\n",
       "                 chilly     351\n",
       "                 perfect    212\n",
       "                 hot         99\n",
       "                 warm        72\n",
       "Wellman Hall     cold       610\n",
       "                 hot        467\n",
       "                 chilly     358\n",
       "                 perfect    213\n",
       "                 warm       199\n",
       "Young Hall       cold       638\n",
       "                 hot        280\n",
       "                 chilly     203\n",
       "                 warm        58\n",
       "                 perfect     38\n",
       "Name: comfort, dtype: int64"
      ]
     },
     "execution_count": 110,
     "metadata": {},
     "output_type": "execute_result"
    }
   ],
   "source": [
    "votedata.loc[votedata[\"building\"].isin([\"Wellman Hall\", \"Young Hall\" ,\"Shields Library\"])].groupby(\"building\")[\"comfort\"].value_counts()"
   ]
  },
  {
   "cell_type": "markdown",
   "metadata": {},
   "source": [
    "## step 3. Determine what month has the most votes and plot in a way that is intuitive and displays the top 5 months."
   ]
  },
  {
   "cell_type": "code",
   "execution_count": 111,
   "metadata": {},
   "outputs": [],
   "source": [
    "votedata[\"timestamp\"] = pd.to_datetime(votedata[\"timestamp\"])"
   ]
  },
  {
   "cell_type": "code",
   "execution_count": 112,
   "metadata": {},
   "outputs": [],
   "source": [
    "votedata[\"month\"] = votedata[\"timestamp\"].map(lambda x: x.month)"
   ]
  },
  {
   "cell_type": "code",
   "execution_count": 113,
   "metadata": {},
   "outputs": [
    {
     "data": {
      "text/plain": [
       "<matplotlib.axes._subplots.AxesSubplot at 0x12bcd1e48>"
      ]
     },
     "execution_count": 113,
     "metadata": {},
     "output_type": "execute_result"
    },
    {
     "data": {
      "image/png": "[encoded data removed]",
      "text/plain": [
       "<Figure size 432x288 with 1 Axes>"
      ]
     },
     "metadata": {
      "needs_background": "light"
     },
     "output_type": "display_data"
    }
   ],
   "source": [
    "sns.countplot(data = votedata, x = \"month\")"
   ]
  },
  {
   "cell_type": "code",
   "execution_count": 81,
   "metadata": {},
   "outputs": [
    {
     "data": {
      "text/plain": [
       "<matplotlib.axes._subplots.AxesSubplot at 0x12890ea58>"
      ]
     },
     "execution_count": 81,
     "metadata": {},
     "output_type": "execute_result"
    },
    {
     "data": {
      "image/png": "[encoded data removed]",
      "text/plain": [
       "<Figure size 432x288 with 1 Axes>"
      ]
     },
     "metadata": {
      "needs_background": "light"
     },
     "output_type": "display_data"
    }
   ],
   "source": [
    "mtcount = votedata[\"month\"].value_counts()\n",
    "sns.barplot(x=mtcount.index[0:5], y=bdcounts[0:5])"
   ]
  },
  {
   "cell_type": "markdown",
   "metadata": {},
   "source": [
    "##  step 4 Merge ‘Chilly ‘Votes with ‘Cold’ Votes, ‘Warm’ Votes with ‘Hot’ votes and replot all votes by Hot, Perfect and Cold for all time\n"
   ]
  },
  {
   "cell_type": "code",
   "execution_count": 117,
   "metadata": {},
   "outputs": [
    {
     "data": {
      "text/plain": [
       "0        False\n",
       "1        False\n",
       "2        False\n",
       "3        False\n",
       "4        False\n",
       "5        False\n",
       "6        False\n",
       "7        False\n",
       "8        False\n",
       "9        False\n",
       "10       False\n",
       "11       False\n",
       "12       False\n",
       "13       False\n",
       "14       False\n",
       "15       False\n",
       "16       False\n",
       "17       False\n",
       "18       False\n",
       "19       False\n",
       "20       False\n",
       "21       False\n",
       "22       False\n",
       "23       False\n",
       "24       False\n",
       "25       False\n",
       "26       False\n",
       "27       False\n",
       "28       False\n",
       "29       False\n",
       "         ...  \n",
       "26148    False\n",
       "26149    False\n",
       "26150    False\n",
       "26152    False\n",
       "26153    False\n",
       "26155    False\n",
       "26156    False\n",
       "26157    False\n",
       "26159    False\n",
       "26160    False\n",
       "26161    False\n",
       "26162    False\n",
       "26163    False\n",
       "26164    False\n",
       "26165    False\n",
       "26167    False\n",
       "26168    False\n",
       "26169    False\n",
       "26170    False\n",
       "26172    False\n",
       "26174    False\n",
       "26176    False\n",
       "26177    False\n",
       "26178    False\n",
       "26179    False\n",
       "26180    False\n",
       "26182    False\n",
       "26183    False\n",
       "26184    False\n",
       "26185    False\n",
       "Name: comfort, Length: 22146, dtype: bool"
      ]
     },
     "execution_count": 117,
     "metadata": {},
     "output_type": "execute_result"
    }
   ],
   "source": [
    "votedata[\"comfort\"]==\"chilly\" "
   ]
  },
  {
   "cell_type": "code",
   "execution_count": 118,
   "metadata": {},
   "outputs": [],
   "source": [
    "votedata.loc[votedata[\"comfort\"]==\"chilly\", \"comfort\"] = \"cold\""
   ]
  },
  {
   "cell_type": "code",
   "execution_count": 119,
   "metadata": {},
   "outputs": [],
   "source": [
    "votedata.loc[votedata[\"comfort\"]==\"warm\", \"comfort\"] = \"hot\""
   ]
  },
  {
   "cell_type": "code",
   "execution_count": 120,
   "metadata": {},
   "outputs": [
    {
     "data": {
      "text/plain": [
       "<matplotlib.axes._subplots.AxesSubplot at 0x12c21f908>"
      ]
     },
     "execution_count": 120,
     "metadata": {},
     "output_type": "execute_result"
    },
    {
     "data": {
      "image/png": "[encoded data removed]",
      "text/plain": [
       "<Figure size 432x288 with 1 Axes>"
      ]
     },
     "metadata": {
      "needs_background": "light"
     },
     "output_type": "display_data"
    }
   ],
   "source": [
    "sns.countplot(x=votedata[\"comfort\"])"
   ]
  },
  {
   "cell_type": "markdown",
   "metadata": {},
   "source": [
    "## step4 Create 2 subplots in which the merged votes from task 4 are broken down by faculty and student."
   ]
  },
  {
   "cell_type": "code",
   "execution_count": null,
   "metadata": {},
   "outputs": [],
   "source": [
    "votedata.loc[votedata[\"isFaculty\"]==\"0\", \"isFaculty\"] = \"FALSE\"\n",
    "votedata.loc[votedata[\"isFaculty\"]==\"1\", \"isFaculty\"] = \"TRUE\""
   ]
  },
  {
   "cell_type": "code",
   "execution_count": 124,
   "metadata": {},
   "outputs": [
    {
     "data": {
      "image/png": "[encoded data removed]",
      "text/plain": [
       "<Figure size 432x216 with 2 Axes>"
      ]
     },
     "metadata": {
      "needs_background": "light"
     },
     "output_type": "display_data"
    }
   ],
   "source": [
    "g = sns.FacetGrid(votedata, col=\"isFaculty\", sharey = False)\n",
    "g = g.map(sns.countplot,\"comfort\")"
   ]
  },
  {
   "cell_type": "markdown",
   "metadata": {},
   "source": [
    "## Step 6. Append the 'Outside Air Temp test.csv' to the thermoostat DataFrame ensuring that the nearest temperature to the vote is attached to each vote. Below is an example of a merge between the comfort votes and the outside air temperature:"
   ]
  },
  {
   "cell_type": "code",
   "execution_count": 133,
   "metadata": {},
   "outputs": [],
   "source": [
    "thermoostat = pd.read_csv(\"Outside Air Temp test.csv\", header = 0, names = [\"timestamp\",\"temp\"] )"
   ]
  },
  {
   "cell_type": "code",
   "execution_count": 135,
   "metadata": {},
   "outputs": [],
   "source": [
    "thermoostat[\"timestamp\"] = pd.to_datetime(thermoostat[\"timestamp\"])"
   ]
  },
  {
   "cell_type": "code",
   "execution_count": 202,
   "metadata": {},
   "outputs": [
    {
     "data": {
      "text/html": [
       "<div>\n",
       "<style scoped>\n",
       "    .dataframe tbody tr th:only-of-type {\n",
       "        vertical-align: middle;\n",
       "    }\n",
       "\n",
       "    .dataframe tbody tr th {\n",
       "        vertical-align: top;\n",
       "    }\n",
       "\n",
       "    .dataframe thead th {\n",
       "        text-align: right;\n",
       "    }\n",
       "</style>\n",
       "<table border=\"1\" class=\"dataframe\">\n",
       "  <thead>\n",
       "    <tr style=\"text-align: right;\">\n",
       "      <th></th>\n",
       "      <th>timestamp</th>\n",
       "      <th>temp</th>\n",
       "    </tr>\n",
       "  </thead>\n",
       "  <tbody>\n",
       "    <tr>\n",
       "      <th>0</th>\n",
       "      <td>2016-01-01 08:00:00</td>\n",
       "      <td>40.409643</td>\n",
       "    </tr>\n",
       "    <tr>\n",
       "      <th>1</th>\n",
       "      <td>2016-01-01 09:00:00</td>\n",
       "      <td>40.079128</td>\n",
       "    </tr>\n",
       "    <tr>\n",
       "      <th>2</th>\n",
       "      <td>2016-01-01 10:00:00</td>\n",
       "      <td>40.090998</td>\n",
       "    </tr>\n",
       "    <tr>\n",
       "      <th>3</th>\n",
       "      <td>2016-01-01 11:00:00</td>\n",
       "      <td>40.114107</td>\n",
       "    </tr>\n",
       "    <tr>\n",
       "      <th>4</th>\n",
       "      <td>2016-01-01 12:00:00</td>\n",
       "      <td>39.902123</td>\n",
       "    </tr>\n",
       "  </tbody>\n",
       "</table>\n",
       "</div>"
      ],
      "text/plain": [
       "            timestamp       temp\n",
       "0 2016-01-01 08:00:00  40.409643\n",
       "1 2016-01-01 09:00:00  40.079128\n",
       "2 2016-01-01 10:00:00  40.090998\n",
       "3 2016-01-01 11:00:00  40.114107\n",
       "4 2016-01-01 12:00:00  39.902123"
      ]
     },
     "execution_count": 202,
     "metadata": {},
     "output_type": "execute_result"
    }
   ],
   "source": [
    "thermoostat.head()"
   ]
  },
  {
   "cell_type": "code",
   "execution_count": 180,
   "metadata": {},
   "outputs": [],
   "source": [
    "votedata[\"timestamp\"] =votedata[\"timestamp\"].dt.tz_localize(None)"
   ]
  },
  {
   "cell_type": "code",
   "execution_count": null,
   "metadata": {},
   "outputs": [],
   "source": [
    "pd.to_datetime(30)"
   ]
  },
  {
   "cell_type": "code",
   "execution_count": 220,
   "metadata": {},
   "outputs": [],
   "source": [
    "def gettemp(time):\n",
    "    hit = np.abs((time - thermoostat[\"timestamp\"]) / pd.Timedelta(\"1 minutes\")) < 30\n",
    "    hitNum = np.sum(hit)\n",
    "    if hitNum == 0:\n",
    "        return None\n",
    "    else:\n",
    "        return thermoostat.loc[hit, \"temp\"].tolist()[0]"
   ]
  },
  {
   "cell_type": "code",
   "execution_count": null,
   "metadata": {},
   "outputs": [],
   "source": [
    "votedata[\"temperature\"] = votedata[\"timestamp\"].apply(gettemp)"
   ]
  },
  {
   "cell_type": "code",
   "execution_count": 205,
   "metadata": {},
   "outputs": [
    {
     "data": {
      "text/html": [
       "<div>\n",
       "<style scoped>\n",
       "    .dataframe tbody tr th:only-of-type {\n",
       "        vertical-align: middle;\n",
       "    }\n",
       "\n",
       "    .dataframe tbody tr th {\n",
       "        vertical-align: top;\n",
       "    }\n",
       "\n",
       "    .dataframe thead th {\n",
       "        text-align: right;\n",
       "    }\n",
       "</style>\n",
       "<table border=\"1\" class=\"dataframe\">\n",
       "  <thead>\n",
       "    <tr style=\"text-align: right;\">\n",
       "      <th></th>\n",
       "      <th>Unnamed: 0</th>\n",
       "      <th>isFaculty</th>\n",
       "      <th>isStaff</th>\n",
       "      <th>isStudent</th>\n",
       "      <th>building</th>\n",
       "      <th>buildingKey</th>\n",
       "      <th>room</th>\n",
       "      <th>comfort</th>\n",
       "      <th>quarter</th>\n",
       "      <th>timestamp</th>\n",
       "      <th>activity</th>\n",
       "      <th>clothing</th>\n",
       "      <th>month</th>\n",
       "      <th>temperature</th>\n",
       "    </tr>\n",
       "  </thead>\n",
       "  <tbody>\n",
       "    <tr>\n",
       "      <th>26180</th>\n",
       "      <td>26180</td>\n",
       "      <td>FALSE</td>\n",
       "      <td>False</td>\n",
       "      <td>True</td>\n",
       "      <td>Hunt Hall</td>\n",
       "      <td>DV-01-000092</td>\n",
       "      <td>168</td>\n",
       "      <td>perfect</td>\n",
       "      <td>fall2018</td>\n",
       "      <td>2018-10-15 09:07:24</td>\n",
       "      <td>inactive</td>\n",
       "      <td>normal</td>\n",
       "      <td>10</td>\n",
       "      <td>24433    61.308192\n",
       "Name: temp, dtype: float64</td>\n",
       "    </tr>\n",
       "    <tr>\n",
       "      <th>26182</th>\n",
       "      <td>26182</td>\n",
       "      <td>FALSE</td>\n",
       "      <td>False</td>\n",
       "      <td>True</td>\n",
       "      <td>Bainer Hall</td>\n",
       "      <td>DV-01-000462</td>\n",
       "      <td>1060</td>\n",
       "      <td>cold</td>\n",
       "      <td>fall2018</td>\n",
       "      <td>2018-10-15 09:33:15</td>\n",
       "      <td>inactive</td>\n",
       "      <td>normal</td>\n",
       "      <td>10</td>\n",
       "      <td>24434    61.616868\n",
       "Name: temp, dtype: float64</td>\n",
       "    </tr>\n",
       "    <tr>\n",
       "      <th>26183</th>\n",
       "      <td>26183</td>\n",
       "      <td>FALSE</td>\n",
       "      <td>False</td>\n",
       "      <td>True</td>\n",
       "      <td>Haring Hall</td>\n",
       "      <td>DV-01-000098</td>\n",
       "      <td>1227</td>\n",
       "      <td>cold</td>\n",
       "      <td>fall2018</td>\n",
       "      <td>2018-10-15 09:34:11</td>\n",
       "      <td>inactive</td>\n",
       "      <td>normal</td>\n",
       "      <td>10</td>\n",
       "      <td>24434    61.616868\n",
       "Name: temp, dtype: float64</td>\n",
       "    </tr>\n",
       "    <tr>\n",
       "      <th>26184</th>\n",
       "      <td>26184</td>\n",
       "      <td>FALSE</td>\n",
       "      <td>True</td>\n",
       "      <td>True</td>\n",
       "      <td>Haring Hall</td>\n",
       "      <td>DV-01-000098</td>\n",
       "      <td>1227</td>\n",
       "      <td>cold</td>\n",
       "      <td>fall2018</td>\n",
       "      <td>2018-10-15 09:43:22</td>\n",
       "      <td>inactive</td>\n",
       "      <td>heavy</td>\n",
       "      <td>10</td>\n",
       "      <td>24434    61.616868\n",
       "Name: temp, dtype: float64</td>\n",
       "    </tr>\n",
       "    <tr>\n",
       "      <th>26185</th>\n",
       "      <td>26185</td>\n",
       "      <td>FALSE</td>\n",
       "      <td>True</td>\n",
       "      <td>True</td>\n",
       "      <td>Art Building</td>\n",
       "      <td>DV-01-000451</td>\n",
       "      <td>204</td>\n",
       "      <td>hot</td>\n",
       "      <td>fall2018</td>\n",
       "      <td>2018-10-15 09:57:48</td>\n",
       "      <td>inactive</td>\n",
       "      <td>light</td>\n",
       "      <td>10</td>\n",
       "      <td>24434    61.616868\n",
       "Name: temp, dtype: float64</td>\n",
       "    </tr>\n",
       "  </tbody>\n",
       "</table>\n",
       "</div>"
      ],
      "text/plain": [
       "       Unnamed: 0 isFaculty  isStaff  isStudent      building   buildingKey  \\\n",
       "26180       26180     FALSE    False       True     Hunt Hall  DV-01-000092   \n",
       "26182       26182     FALSE    False       True   Bainer Hall  DV-01-000462   \n",
       "26183       26183     FALSE    False       True   Haring Hall  DV-01-000098   \n",
       "26184       26184     FALSE     True       True   Haring Hall  DV-01-000098   \n",
       "26185       26185     FALSE     True       True  Art Building  DV-01-000451   \n",
       "\n",
       "       room  comfort   quarter           timestamp  activity clothing  month  \\\n",
       "26180   168  perfect  fall2018 2018-10-15 09:07:24  inactive   normal     10   \n",
       "26182  1060     cold  fall2018 2018-10-15 09:33:15  inactive   normal     10   \n",
       "26183  1227     cold  fall2018 2018-10-15 09:34:11  inactive   normal     10   \n",
       "26184  1227     cold  fall2018 2018-10-15 09:43:22  inactive    heavy     10   \n",
       "26185   204      hot  fall2018 2018-10-15 09:57:48  inactive    light     10   \n",
       "\n",
       "                                         temperature  \n",
       "26180  24433    61.308192\n",
       "Name: temp, dtype: float64  \n",
       "26182  24434    61.616868\n",
       "Name: temp, dtype: float64  \n",
       "26183  24434    61.616868\n",
       "Name: temp, dtype: float64  \n",
       "26184  24434    61.616868\n",
       "Name: temp, dtype: float64  \n",
       "26185  24434    61.616868\n",
       "Name: temp, dtype: float64  "
      ]
     },
     "execution_count": 205,
     "metadata": {},
     "output_type": "execute_result"
    }
   ],
   "source": [
    "votedata.tail()"
   ]
  }
 ],
 "metadata": {
  "kernelspec": {
   "display_name": "Python 3",
   "language": "python",
   "name": "python3"
  },
  "language_info": {
   "codemirror_mode": {
    "name": "ipython",
    "version": 3
   },
   "file_extension": ".py",
   "mimetype": "text/x-python",
   "name": "python",
   "nbconvert_exporter": "python",
   "pygments_lexer": "ipython3",
   "version": "3.7.3"
  }
 },
 "nbformat": 4,
 "nbformat_minor": 2
}
